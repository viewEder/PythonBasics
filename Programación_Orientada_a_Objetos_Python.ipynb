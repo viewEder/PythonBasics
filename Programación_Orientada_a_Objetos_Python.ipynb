{
  "nbformat": 4,
  "nbformat_minor": 0,
  "metadata": {
    "colab": {
      "provenance": [],
      "authorship_tag": "ABX9TyNboRFVButjTICrWARPgLiO",
      "include_colab_link": true
    },
    "kernelspec": {
      "name": "python3",
      "display_name": "Python 3"
    },
    "language_info": {
      "name": "python"
    }
  },
  "cells": [
    {
      "cell_type": "markdown",
      "metadata": {
        "id": "view-in-github",
        "colab_type": "text"
      },
      "source": [
        "<a href=\"https://colab.research.google.com/github/viewEder/PythonBasics/blob/main/Programaci%C3%B3n_Orientada_a_Objetos_Python.ipynb\" target=\"_parent\"><img src=\"https://colab.research.google.com/assets/colab-badge.svg\" alt=\"Open In Colab\"/></a>"
      ]
    },
    {
      "cell_type": "code",
      "execution_count": null,
      "metadata": {
        "id": "Owaf88q_UCbR"
      },
      "outputs": [],
      "source": []
    },
    {
      "cell_type": "markdown",
      "source": [
        "# Que es Programación Orientada a Objetos\n",
        "La Programación Orientada a Objetos (POO) es un paradigma de programación, es decir, un modelo o un estilo de programación que nos da unas guías sobre cómo trabajar con él. Se basa en el concepto de clases y objetos. Este tipo de programación se utiliza para estructurar un programa de software en piezas simples y reutilizables de planos de código (clases) para crear instancias individuales de objetos. \n",
        "[tomado de internet](https://profile.es/blog/que-es-la-programacion-orientada-a-objetos/)"
      ],
      "metadata": {
        "id": "xkp5sDIXUMEH"
      }
    },
    {
      "cell_type": "code",
      "source": [
        "# Supogamos la clase carro:\n",
        "\"\"\"\n",
        "Un carro tiene:\n",
        "llantas - #\n",
        "chasis - idchasis [tamaño, peso, color, material, ...]\n",
        "color - Nombre color\n",
        "motor - 1.4\n",
        "marca - nombre de arca\n",
        "kilometraje - cantidad de kilometros rrecorridos\n",
        "carroceria - \"sedan\"\n",
        "modelo - año de lanzamiento del carro\n",
        "computador - \n",
        "bateria -\n",
        "\n",
        "\"\"\"\n",
        "class Carro:\n",
        "  pass"
      ],
      "metadata": {
        "id": "A2NukIsoVkYa"
      },
      "execution_count": null,
      "outputs": []
    },
    {
      "cell_type": "code",
      "source": [
        "class Carro:\n",
        "  llantas = ''\n",
        "  chasis = ''\n",
        "  color = ''\n",
        "  motor = {}\n",
        "  marca = ''\n",
        "  kilometraje = ''\n",
        "  carroceria = ''\n",
        "  modelo = ''\n",
        "  computador = ''\n",
        "  bateria = ''"
      ],
      "metadata": {
        "id": "iRw-nXo7XqaO"
      },
      "execution_count": 1,
      "outputs": []
    },
    {
      "cell_type": "code",
      "source": [
        "ncarro = Carro()\n",
        "ncarro.llantas = 5\n",
        "ncarro.chasis = 62739432879\n",
        "\n",
        "print(ncarro.llantas, ncarro.chasis)"
      ],
      "metadata": {
        "colab": {
          "base_uri": "https://localhost:8080/"
        },
        "id": "OIMPE3mGX67O",
        "outputId": "d3d0b650-1b38-4524-b241-9fec1088f414"
      },
      "execution_count": 4,
      "outputs": [
        {
          "output_type": "stream",
          "name": "stdout",
          "text": [
            "5 62739432879\n"
          ]
        }
      ]
    },
    {
      "cell_type": "code",
      "source": [
        "class Carro:\n",
        "  def  __init__(self, marca, modelo):\n",
        "    self.marca = marca\n",
        "    self.modelo = modelo\n",
        "    print(f'Se ha creado el carro de marca {self.marca} modelo {self.modelo')"
      ],
      "metadata": {
        "id": "JoAEyOd8ZKky"
      },
      "execution_count": null,
      "outputs": []
    }
  ]
}