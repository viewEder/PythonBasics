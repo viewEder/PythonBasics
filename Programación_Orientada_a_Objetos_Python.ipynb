{
  "nbformat": 4,
  "nbformat_minor": 0,
  "metadata": {
    "colab": {
      "provenance": [],
      "authorship_tag": "ABX9TyMVba5LCeQsyQ/qn7O7KeAL",
      "include_colab_link": true
    },
    "kernelspec": {
      "name": "python3",
      "display_name": "Python 3"
    },
    "language_info": {
      "name": "python"
    }
  },
  "cells": [
    {
      "cell_type": "markdown",
      "metadata": {
        "id": "view-in-github",
        "colab_type": "text"
      },
      "source": [
        "<a href=\"https://colab.research.google.com/github/viewEder/PythonBasics/blob/main/Programaci%C3%B3n_Orientada_a_Objetos_Python.ipynb\" target=\"_parent\"><img src=\"https://colab.research.google.com/assets/colab-badge.svg\" alt=\"Open In Colab\"/></a>"
      ]
    },
    {
      "cell_type": "code",
      "execution_count": null,
      "metadata": {
        "id": "Owaf88q_UCbR"
      },
      "outputs": [],
      "source": []
    },
    {
      "cell_type": "markdown",
      "source": [
        "# Que es Programación Orientada a Objetos\n",
        "La Programación Orientada a Objetos (POO) es un paradigma de programación, es decir, un modelo o un estilo de programación que nos da unas guías sobre cómo trabajar con él. Se basa en el concepto de clases y objetos. Este tipo de programación se utiliza para estructurar un programa de software en piezas simples y reutilizables de planos de código (clases) para crear instancias individuales de objetos. \n",
        "[tomado de internet](https://profile.es/blog/que-es-la-programacion-orientada-a-objetos/)"
      ],
      "metadata": {
        "id": "xkp5sDIXUMEH"
      }
    },
    {
      "cell_type": "code",
      "source": [
        "# Supogamos la clase carro:\n",
        "\"\"\"\n",
        "Un carro tiene:\n",
        "llantas - #\n",
        "chasis - idchasis [tamaño, peso, color, material, ...]\n",
        "color - Nombre color\n",
        "motor - 1.4\n",
        "marca - nombre de arca\n",
        "kilometraje - cantidad de kilometros rrecorridos\n",
        "carroceria - \"sedan\"\n",
        "modelo - año de lanzamiento del carro\n",
        "computador - \n",
        "bateria -\n",
        "\n",
        "\"\"\"\n",
        "class Carro:\n",
        "  pass"
      ],
      "metadata": {
        "id": "A2NukIsoVkYa"
      },
      "execution_count": null,
      "outputs": []
    },
    {
      "cell_type": "code",
      "source": [
        "class Carro:\n",
        "  llantas = ''\n",
        "  chasis = ''\n",
        "  color = ''\n",
        "  motor = {}\n",
        "  marca = ''\n",
        "  kilometraje = ''\n",
        "  carroceria = ''\n",
        "  modelo = ''\n",
        "  computador = ''\n",
        "  bateria = ''"
      ],
      "metadata": {
        "id": "iRw-nXo7XqaO"
      },
      "execution_count": 15,
      "outputs": []
    },
    {
      "cell_type": "code",
      "source": [
        "ncarro = Carro()\n",
        "ncarro.llantas = 5\n",
        "ncarro.chasis = 62739432879\n",
        "\n",
        "print(ncarro.llantas, ncarro.chasis)"
      ],
      "metadata": {
        "colab": {
          "base_uri": "https://localhost:8080/"
        },
        "id": "OIMPE3mGX67O",
        "outputId": "d3d0b650-1b38-4524-b241-9fec1088f414"
      },
      "execution_count": 4,
      "outputs": [
        {
          "output_type": "stream",
          "name": "stdout",
          "text": [
            "5 62739432879\n"
          ]
        }
      ]
    },
    {
      "cell_type": "code",
      "source": [
        "class Carro:\n",
        "  # Constructor de la clase carro\n",
        "  def  __init__(self, marca, modelo, _consesionario):\n",
        "    self.marca = marca\n",
        "    self.modelo = modelo\n",
        "    self._consesionario = _consesionario\n",
        "    print(f'Se ha creado el carro de marca {self.marca} modelo {self.modelo} del consesionario {self._consesionario}')"
      ],
      "metadata": {
        "id": "JoAEyOd8ZKky"
      },
      "execution_count": 31,
      "outputs": []
    },
    {
      "cell_type": "code",
      "source": [
        "cacharrito = Carro('Mazda',2022, 'Autos la 30')\n",
        "el_consentido = Carro('Fiat',1982, 'Autos del Camino')"
      ],
      "metadata": {
        "colab": {
          "base_uri": "https://localhost:8080/"
        },
        "id": "hUXWeMvFad7Y",
        "outputId": "b7dac115-8b53-4251-8927-4cc0f8f2ad4f"
      },
      "execution_count": 32,
      "outputs": [
        {
          "output_type": "stream",
          "name": "stdout",
          "text": [
            "Se ha creado el carro de marca Mazda modelo 2022 del consesionario Autos la 30\n",
            "Se ha creado el carro de marca Fiat modelo 1982 del consesionario Autos del Camino\n"
          ]
        }
      ]
    },
    {
      "cell_type": "code",
      "source": [
        "rayo = Carro('Chevrolet', 2020, 'Andar')"
      ],
      "metadata": {
        "colab": {
          "base_uri": "https://localhost:8080/"
        },
        "id": "RoxMHBS6bajv",
        "outputId": "46eea172-bfdf-46cb-a341-cda0607800f6"
      },
      "execution_count": 34,
      "outputs": [
        {
          "output_type": "stream",
          "name": "stdout",
          "text": [
            "Se ha creado el carro de marca Chevrolet modelo 2020 del consesionario Andar\n"
          ]
        }
      ]
    },
    {
      "cell_type": "code",
      "source": [
        "print(cacharrito)"
      ],
      "metadata": {
        "colab": {
          "base_uri": "https://localhost:8080/"
        },
        "id": "IRbzoVwUbnH3",
        "outputId": "3597ac54-2816-4555-f3a2-8c19123bb46f"
      },
      "execution_count": 35,
      "outputs": [
        {
          "output_type": "stream",
          "name": "stdout",
          "text": [
            "<__main__.Carro object at 0x7fe36b0491d0>\n"
          ]
        }
      ]
    },
    {
      "cell_type": "code",
      "source": [
        "print(cacharrito.marca, cacharrito.modelo)"
      ],
      "metadata": {
        "colab": {
          "base_uri": "https://localhost:8080/"
        },
        "id": "wddYdJR4b1N7",
        "outputId": "9e948a17-f3cd-4e87-81a7-dab57654f2d0"
      },
      "execution_count": 36,
      "outputs": [
        {
          "output_type": "stream",
          "name": "stdout",
          "text": [
            "Mazda 2022\n"
          ]
        }
      ]
    },
    {
      "cell_type": "code",
      "source": [
        "import datetime\n",
        "from datetime import date\n",
        "\n",
        "\n",
        "fecha = datetime.datetime.strptime(fecha, '%Y-%m-%d')\n",
        "año = int(fecha.strftime('%Y'))\n",
        "edad =  datetime.datetime.today().year - año\n",
        "print(fecha, edad)"
      ],
      "metadata": {
        "colab": {
          "base_uri": "https://localhost:8080/"
        },
        "id": "A-e-w0vfjOwU",
        "outputId": "5a351063-c9c5-4acb-c0b4-6a63dd6ce495"
      },
      "execution_count": 69,
      "outputs": [
        {
          "output_type": "stream",
          "name": "stdout",
          "text": [
            "1982-09-20 00:00:00 40\n"
          ]
        }
      ]
    },
    {
      "cell_type": "code",
      "source": [
        "una_fecha = '2019-04-20'\n",
        "fecha_dt = datetime.datetime.strptime(una_fecha, '%Y-%m-%d')\n",
        "year = fecha_dt.strftime(\"%Y\")\n",
        "print(year)"
      ],
      "metadata": {
        "colab": {
          "base_uri": "https://localhost:8080/"
        },
        "id": "ALSS1-Pun8-W",
        "outputId": "fbc83021-b1be-4759-9212-cfbb0dc76803"
      },
      "execution_count": 67,
      "outputs": [
        {
          "output_type": "stream",
          "name": "stdout",
          "text": [
            "2019\n"
          ]
        }
      ]
    },
    {
      "cell_type": "markdown",
      "source": [
        "# Crear una clase para organizar los estudiantes que ingresan al instituto"
      ],
      "metadata": {
        "id": "UjKqroFTeoKa"
      }
    },
    {
      "cell_type": "code",
      "source": [
        "import datetime\n",
        "class Estudiante:\n",
        "  def __init__(self, tipo_documento, nombres, apellidos, fecha_nace, curso):\n",
        "    self.tipo_doc = tipo_documento\n",
        "    self.nombres = nombres\n",
        "    self.apellidos = apellidos\n",
        "    self.fecha_nace = fecha_nace\n",
        "    self.curso = curso\n",
        "\n",
        "  def edad_calculada (self):\n",
        "    fecha_nace = datetime.datetime.strptime(self.fecha_nace, '%Y-%m-%d')\n",
        "    año_nace = int(fecha_nace.strftime('%Y'))\n",
        "    edad  = datetime.datetime.today().year - año_nace\n",
        "    return edad\n",
        "\n",
        "  def __str__(self):\n",
        "    return f'Estudiante {self.nombres} {self.apellidos}, de {self.edad_calculada()} años, se ha registrado en el curso {self.curso}'"
      ],
      "metadata": {
        "id": "UY-ivDwqe381"
      },
      "execution_count": 75,
      "outputs": []
    },
    {
      "cell_type": "code",
      "source": [
        "eder = Estudiante('CC', 'Eder', 'Lara Trujillo', '1982-12-20', 'Python Django II')\n",
        "print(eder)"
      ],
      "metadata": {
        "colab": {
          "base_uri": "https://localhost:8080/"
        },
        "id": "cH-IByuCqWI3",
        "outputId": "cab39838-13e2-4de6-ebea-3e151e1e1fe2"
      },
      "execution_count": 77,
      "outputs": [
        {
          "output_type": "stream",
          "name": "stdout",
          "text": [
            "Estudiante Eder Lara Trujillo, de 40 años, se ha registrado en el curso Python Django II\n"
          ]
        }
      ]
    },
    {
      "cell_type": "markdown",
      "source": [
        "# Herencia"
      ],
      "metadata": {
        "id": "Exce65B7fPa4"
      }
    },
    {
      "cell_type": "code",
      "source": [],
      "metadata": {
        "id": "nnGoHcs-fSEo"
      },
      "execution_count": null,
      "outputs": []
    },
    {
      "cell_type": "code",
      "source": [],
      "metadata": {
        "id": "b41i6NqjfT-P"
      },
      "execution_count": null,
      "outputs": []
    },
    {
      "cell_type": "markdown",
      "source": [
        "# Crear la clase padre instituto, y la clase hija estudiante"
      ],
      "metadata": {
        "id": "V-ShwZK4fUkl"
      }
    }
  ]
}