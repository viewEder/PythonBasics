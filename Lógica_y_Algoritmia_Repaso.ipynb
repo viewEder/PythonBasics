{
  "nbformat": 4,
  "nbformat_minor": 0,
  "metadata": {
    "colab": {
      "provenance": [],
      "collapsed_sections": [],
      "authorship_tag": "ABX9TyPDunF/CpfZLMMPS2XJ5L7p",
      "include_colab_link": true
    },
    "kernelspec": {
      "name": "python3",
      "display_name": "Python 3"
    },
    "language_info": {
      "name": "python"
    }
  },
  "cells": [
    {
      "cell_type": "markdown",
      "metadata": {
        "id": "view-in-github",
        "colab_type": "text"
      },
      "source": [
        "<a href=\"https://colab.research.google.com/github/viewEder/PythonBasics/blob/main/L%C3%B3gica_y_Algoritmia_Repaso.ipynb\" target=\"_parent\"><img src=\"https://colab.research.google.com/assets/colab-badge.svg\" alt=\"Open In Colab\"/></a>"
      ]
    },
    {
      "cell_type": "code",
      "execution_count": null,
      "metadata": {
        "colab": {
          "base_uri": "https://localhost:8080/",
          "height": 53
        },
        "id": "_69osyvUnW8x",
        "outputId": "97279875-dbb2-409a-cc47-d7ad2a67b66d"
      },
      "outputs": [
        {
          "output_type": "execute_result",
          "data": {
            "application/vnd.google.colaboratory.intrinsic+json": {
              "type": "string"
            },
            "text/plain": [
              "' se desea calcular la distancia d en metros por un móvil, que tiene velocidad constante v (m/s) durante un tiempo t (sg). Considerar que es MRU'"
            ]
          },
          "metadata": {},
          "execution_count": 2
        }
      ],
      "source": [
        "\"\"\" se desea calcular la distancia d en metros por un móvil, que tiene velocidad constante v (m/s) durante un tiempo t (sg). Considerar que es MRU\"\"\"\n"
      ]
    },
    {
      "cell_type": "code",
      "source": [
        "# Solución:\n",
        "\n",
        "\"\"\" \n",
        "  1. Definir las variables:\n",
        "  1.1 distancia (número) tiempo (número) velocidad (número), mensaje (texto)\n",
        "  1.2 Capturar datos\n",
        "  2. Describir las operaciones, Resolver el proceso de cálculos\n",
        "  2.2 ....\n",
        "  3. Mostrar el resultado\n",
        "\"\"\""
      ],
      "metadata": {
        "id": "lapzryd3wCNG"
      },
      "execution_count": null,
      "outputs": []
    },
    {
      "cell_type": "code",
      "source": [
        "\"\"\" se desea calcular la distancia d en metros por un móvil, \n",
        "que tiene velocidad constante v (m/s) durante un tiempo t (sg).u\n",
        "Si la velocidad es mayor a 100 km/h el tiempo no supera las 2 horas,\n",
        "Pero si la velocidad es menor a este rango el tiempo total es de 2 horas 45 minutos\n",
        "\n",
        "Considerar que es MRU \"\"\""
      ],
      "metadata": {
        "colab": {
          "base_uri": "https://localhost:8080/",
          "height": 90
        },
        "id": "H2DdR_f5wJiY",
        "outputId": "93754fc8-4617-4158-e06e-7c5290447667"
      },
      "execution_count": null,
      "outputs": [
        {
          "output_type": "execute_result",
          "data": {
            "application/vnd.google.colaboratory.intrinsic+json": {
              "type": "string"
            },
            "text/plain": [
              "' se desea calcular la distancia d en metros por un móvil, \\nque tiene velocidad constante v (m/s) durante un tiempo t (sg).u\\nSi la velocidad es mayor a 100 km/h el tiempo no supera las 2 horas,\\nPero si la velocidad es menor a este rango el tiempo total es de 2 horas 45 minutos\\n\\nConsiderar que es MRU '"
            ]
          },
          "metadata": {},
          "execution_count": 5
        }
      ]
    },
    {
      "cell_type": "code",
      "source": [
        "v = int(input('Ingrese la velocidad: '))\n",
        "\n",
        "if v >= 100 :\n",
        "  t = 120\n",
        "else :\n",
        "  t = 165\n",
        "\n",
        "d = v * t\n",
        "\n",
        "mensaje = f'La distancia recorrida en {t}s a una velocidad de {v}m/s es igual a {d}m'\n",
        "print(mensaje)"
      ],
      "metadata": {
        "colab": {
          "base_uri": "https://localhost:8080/"
        },
        "id": "jWsGnREX0PE9",
        "outputId": "eaec4a3d-7c92-4f84-dad7-85c7f426908e"
      },
      "execution_count": null,
      "outputs": [
        {
          "output_type": "stream",
          "name": "stdout",
          "text": [
            "Ingrese la velocidad: 120\n",
            "La distancia recorrida en 120s a una velocidad de 120m/s es igual a 14400m\n"
          ]
        }
      ]
    },
    {
      "cell_type": "code",
      "source": [
        "\"\"\" Mientras x <= 10, \n",
        "    imprimir hola mundo \n",
        "    x inicia en 1,\n",
        "\"\"\""
      ],
      "metadata": {
        "colab": {
          "base_uri": "https://localhost:8080/",
          "height": 36
        },
        "id": "lR2I7J-g5R1N",
        "outputId": "c3e79ec4-77dc-45cb-8721-9a411a26ed15"
      },
      "execution_count": null,
      "outputs": [
        {
          "output_type": "execute_result",
          "data": {
            "application/vnd.google.colaboratory.intrinsic+json": {
              "type": "string"
            },
            "text/plain": [
              "' Mientras x = 10, imprimir hola mundo '"
            ]
          },
          "metadata": {},
          "execution_count": 12
        }
      ]
    },
    {
      "cell_type": "code",
      "source": [
        "\"\"\" \n",
        "  Arreglos \n",
        "\"\"\"\n",
        "x = ['a', 2, 3.4, False, -4, -6.3] \n",
        "y = [1,2,3,4,5]\n",
        "print(sum(y))\n",
        "print(type(x))\n",
        "for i in x:\n",
        "  print(type(i), i)"
      ],
      "metadata": {
        "colab": {
          "base_uri": "https://localhost:8080/"
        },
        "id": "dEpgNqHT5iaQ",
        "outputId": "90df6065-07d9-46fc-944b-27178dc00111"
      },
      "execution_count": null,
      "outputs": [
        {
          "output_type": "stream",
          "name": "stdout",
          "text": [
            "15\n",
            "<class 'list'>\n",
            "<class 'str'> a\n",
            "<class 'int'> 2\n",
            "<class 'float'> 3.4\n",
            "<class 'bool'> False\n",
            "<class 'int'> -4\n",
            "<class 'float'> -6.3\n"
          ]
        }
      ]
    },
    {
      "cell_type": "code",
      "source": [
        "\"\"\"\n",
        "  Fechas en python\n",
        "\"\"\"\n",
        "import datetime\n",
        "\n",
        "fecha_actual = datetime.datetime.now()\n",
        "print(\"Hoy es:\", fecha_actual)"
      ],
      "metadata": {
        "id": "Sohoj6eSCUtq",
        "colab": {
          "base_uri": "https://localhost:8080/"
        },
        "outputId": "6b3f97ed-91ee-46f2-900f-6c935c2a2aee"
      },
      "execution_count": null,
      "outputs": [
        {
          "output_type": "stream",
          "name": "stdout",
          "text": [
            "Hoy es: 2022-09-24 14:42:28.374286\n"
          ]
        }
      ]
    },
    {
      "cell_type": "code",
      "source": [
        "\"\"\"\n",
        " Convertir fechas en planos, esto es muy útil para la generación de identificadores únicos\n",
        " El método strftime()\n",
        " usa los siguientes parametros \n",
        " %Y - year\n",
        " %m - month\n",
        " %d - day\n",
        " %H - Hours\n",
        " %M - Minutes\n",
        " %S - Seconds\n",
        " ejemplo:\n",
        "print(\"Date and Time in Integer Format:\",\n",
        "      int(fecha_actual.strftime(\"%Y%m%d%H%M%S\")))\n",
        "\"\"\"\n",
        "fecha_plana = int(fecha_actual.strftime(\"%Y%m%d%H%M%S\"))\n",
        "print (fecha_plana)"
      ],
      "metadata": {
        "colab": {
          "base_uri": "https://localhost:8080/"
        },
        "id": "bbm-6Aby6pl7",
        "outputId": "1218ebd3-252b-4fa4-da17-1a377bcfe922"
      },
      "execution_count": null,
      "outputs": [
        {
          "output_type": "stream",
          "name": "stdout",
          "text": [
            "20220924144228\n"
          ]
        }
      ]
    },
    {
      "cell_type": "code",
      "source": [
        "\"\"\" \n",
        "  Creando identificadores únicos usando la fecha y constante de usuario\n",
        "\"\"\"\n",
        "idusuario = 521\n",
        "idsesion = 34\n",
        "valor_unico = f'{fecha_plana}-{idusuario}-{idsesion}'\n",
        "print(type(valor_unico), valor_unico)"
      ],
      "metadata": {
        "colab": {
          "base_uri": "https://localhost:8080/"
        },
        "id": "esqAulOh_3XR",
        "outputId": "b269117f-ee6b-450d-cf0b-7b9c813056c8"
      },
      "execution_count": null,
      "outputs": [
        {
          "output_type": "stream",
          "name": "stdout",
          "text": [
            "<class 'str'> 20220924144228-521-34\n"
          ]
        }
      ]
    },
    {
      "cell_type": "code",
      "source": [
        "\"\"\"\n",
        "  Realizar un sistema de logueo usando el siguiente arreglo de datos:\n",
        "  usuario = ['nombreud', 'clave', 'estado']\n",
        "  el estado por defecto es 'Desconectado', y al loguearse el estado cambia a 'Activo'\n",
        "\"\"\"\n",
        "usuario = ['eder', 'admin', 'Desconectado']\n",
        "\n",
        "while True:\n",
        "  u = input('NickName: ')\n",
        "  c = input('Password: ') \n",
        "\n",
        "  if u == usuario[0] and c == usuario[1]:\n",
        "    usuario[2] = 'Activo'\n",
        "    print(usuario)\n",
        "    break;\n",
        "  else:\n",
        "    print('Usuario y/o contraseña incorrectos')\n",
        "    print(usuario)\n"
      ],
      "metadata": {
        "colab": {
          "base_uri": "https://localhost:8080/"
        },
        "id": "sjYXA4pe_fL5",
        "outputId": "f845d072-678c-41a6-ef54-f83c2996461e"
      },
      "execution_count": null,
      "outputs": [
        {
          "output_type": "stream",
          "name": "stdout",
          "text": [
            "NickName: e\n",
            "Password: f\n",
            "Usuario y/o contraseña incorrectos\n",
            "['eder', 'admin', 'Desconectado']\n",
            "NickName: e\n",
            "Password: f\n",
            "Usuario y/o contraseña incorrectos\n",
            "['eder', 'admin', 'Desconectado']\n",
            "NickName: eder\n",
            "Password: admin\n",
            "['eder', 'admin', 'Activo']\n"
          ]
        }
      ]
    },
    {
      "cell_type": "code",
      "source": [
        "\"\"\"\n",
        "  1. Condiciones\n",
        "  2. Estructuras de datos\n",
        "  3. Ciclos\n",
        "  4. Funciones\n",
        "  5. Clases\n",
        "\"\"\""
      ],
      "metadata": {
        "colab": {
          "base_uri": "https://localhost:8080/"
        },
        "id": "wt2iz_06cbwj",
        "outputId": "92747d6f-f6c2-4643-c07e-a3eaf5a559dd"
      },
      "execution_count": null,
      "outputs": [
        {
          "output_type": "stream",
          "name": "stdout",
          "text": [
            "Digite un número: 20\n",
            "El el valor de x es mayor a 5, x = 20\n"
          ]
        }
      ]
    },
    {
      "cell_type": "code",
      "source": [
        "# Qué es una condición?\n",
        "# Es una regla para ejecutar una instrucción\n",
        "# Ejemplo:\n",
        "x = int(input('Digite un número: '))\n",
        "\n",
        "if x > 5 :\n",
        "  print('El el valor de x es mayor a 5, x =', x)\n",
        "elif x == 5 :\n",
        "  print('El el valor de x es igual a 5, x =', x)\n",
        "else:\n",
        "  print('el valor de x es menor a 5, x =', x)"
      ],
      "metadata": {
        "id": "DCuLQz3AeEVS"
      },
      "execution_count": null,
      "outputs": []
    },
    {
      "cell_type": "code",
      "source": [
        "# Qué son las Estructuras de datos?\n",
        "# Las estructuras de datos son la solución a multiples valores dentro de una variable\n",
        "# tuplas\n",
        "# listas\n",
        "# diccionarios\n",
        "# conjuntos\n",
        "# Ejemplo:\n",
        "tupla = (3, 'Eder', 89.5, True)\n",
        "print(tupla)\n",
        "print(tupla[2])\n",
        "lista = [23.3, 'Lara', 74, False]\n",
        "print(lista)\n",
        "print(lista[-1])\n",
        "print(lista[2:])\n",
        "diccionario = {'clave':'valor'}\n",
        "print(diccionario)\n",
        "print(diccionario['clave'])\n",
        "dict2 = {'Nombre':'Eder Lara', 'Profesión':'Ing. de datos'}\n",
        "print(dict2['Profesión'])"
      ],
      "metadata": {
        "colab": {
          "base_uri": "https://localhost:8080/"
        },
        "id": "fAtbrt3neCbl",
        "outputId": "5a6279b7-af90-475b-dc52-04e2b33856c2"
      },
      "execution_count": null,
      "outputs": [
        {
          "output_type": "stream",
          "name": "stdout",
          "text": [
            "(3, 'Eder', 89.5, True)\n",
            "89.5\n",
            "[23.3, 'Lara', 74, False]\n",
            "False\n",
            "[74, False]\n",
            "{'clave': 'valor'}\n",
            "valor\n",
            "Ing. de datos\n"
          ]
        }
      ]
    },
    {
      "cell_type": "code",
      "source": [
        "# Qué son los Ciclos?\n",
        "# Los ciclos son estructuras repetitivas que dependen de una condición:\n",
        "usuario = ['eder', 'admin', 'Desconectado']\n",
        "\n",
        "while True:\n",
        "  u = input('NickName: ')\n",
        "  c = input('Password: ') \n",
        "\n",
        "  if u == usuario[0] and c == usuario[1]:\n",
        "    usuario[2] = 'Activo'\n",
        "    print(usuario)\n",
        "    break;\n",
        "  else:\n",
        "    print('Usuario y/o contraseña incorrectos')\n",
        "    print(usuario)"
      ],
      "metadata": {
        "colab": {
          "base_uri": "https://localhost:8080/"
        },
        "id": "M677JqqOgmIF",
        "outputId": "931df1a3-dea5-42c5-ef30-84ec43e088c5"
      },
      "execution_count": null,
      "outputs": [
        {
          "output_type": "stream",
          "name": "stdout",
          "text": [
            "NickName: eders\n",
            "Password: admines\n",
            "Usuario y/o contraseña incorrectos\n",
            "['eder', 'admin', 'Desconectado']\n",
            "NickName: tata\n",
            "Password: meil\n",
            "Usuario y/o contraseña incorrectos\n",
            "['eder', 'admin', 'Desconectado']\n",
            "NickName: eder\n",
            "Password: admin\n",
            "['eder', 'admin', 'Activo']\n"
          ]
        }
      ]
    },
    {
      "cell_type": "code",
      "source": [
        "# Qué son las funciones?\n",
        "# Las funciones son rutinas especializadas en hacer una sola cosa.\n",
        "# Ejemplo:\n",
        "def velocidadMU(distancia, tiempo):\n",
        "  velocidad = distancia/tiempo\n",
        "  return velocidad, 'm/s'\n",
        "\n",
        "def distanciaMU(velocidad, tiempo):\n",
        "  distancia = velocidad * tiempo\n",
        "  return distancia, 'mts'\n",
        "\n",
        "def tiempoMU(distancia, velocidad):\n",
        "  tiempo = distancia/velocidad;\n",
        "  return tiempo, 'seg'\n",
        "\n",
        "print(velocidadMU(20, 10))\n",
        "print(distanciaMU(2, 10))\n",
        "print(tiempoMU(20, 2))"
      ],
      "metadata": {
        "colab": {
          "base_uri": "https://localhost:8080/"
        },
        "id": "dkcsWCLZhpQo",
        "outputId": "695f93b4-a20f-43b2-923f-a906656cbbb9"
      },
      "execution_count": null,
      "outputs": [
        {
          "output_type": "stream",
          "name": "stdout",
          "text": [
            "(2.0, 'm/s')\n",
            "(20, 'mts')\n",
            "(10.0, 'seg')\n"
          ]
        }
      ]
    },
    {
      "cell_type": "code",
      "source": [
        "def login(usuario, clave):\n",
        "  user = ['eder', 'admin', 'Desconectado']\n",
        "  if usuario == user[0] and clave == user[1]:\n",
        "    usuario[2] = 'Activo'\n",
        "    return(usuario)\n",
        "  else:\n",
        "    return 'Usuario y/o contraseña incorrectos'\n",
        "\n",
        "u = input('NickName: ')\n",
        "c = input('Password: ')\n",
        "login(u, c)\n"
      ],
      "metadata": {
        "colab": {
          "base_uri": "https://localhost:8080/",
          "height": 70
        },
        "id": "jFoxBR0Tj2hl",
        "outputId": "9c47415e-f542-4aff-dab2-92bf56e2ecd5"
      },
      "execution_count": null,
      "outputs": [
        {
          "name": "stdout",
          "output_type": "stream",
          "text": [
            "NickName: sd\n",
            "Password: l\n"
          ]
        },
        {
          "output_type": "execute_result",
          "data": {
            "application/vnd.google.colaboratory.intrinsic+json": {
              "type": "string"
            },
            "text/plain": [
              "'Usuario y/o contraseña incorrectos'"
            ]
          },
          "metadata": {},
          "execution_count": 33
        }
      ]
    },
    {
      "cell_type": "code",
      "source": [
        "# Qué es una Clase?\n",
        "# Es una estructura de programación orientada a objetos, \n",
        "# que facilita el método programático para la solución de problemas complejos\n",
        "# Ejemplo de Clase:\n",
        "\n",
        "class Objetos:\n",
        "  # atributos públicos:\n",
        "  nombre = ''\n",
        "  valor = 0\n",
        "  # atributos privados:\n",
        "  _color = 'Negro'\n",
        "\n",
        "# Instanciar la clase:\n",
        "a = Objetos\n",
        "a.nombre = 'Pocillo'\n",
        "a.valor = 200\n",
        "print(a.nombre, a.valor)\n",
        "\n",
        "class Objetos2:\n",
        "  # atributos privados:\n",
        "  _color = 'Negro'\n",
        "  # constructor:\n",
        "  def __init__(self, nombre, valor):\n",
        "    self.nombre = nombre\n",
        "    self.valor = valor\n",
        "  \n",
        "  # impresion de objetos de la clase:\n",
        "  def __str__(self):\n",
        "    return f'Esta instancia tiene el objeto {self.nombre} con un valor ${self.valor}'\n",
        "\n",
        "b = Objetos2('Silla', 50000)\n",
        "print(b)\n"
      ],
      "metadata": {
        "colab": {
          "base_uri": "https://localhost:8080/"
        },
        "id": "KrESO_0qlefV",
        "outputId": "9091ee10-4de9-4809-a5a2-e8e7fd461978"
      },
      "execution_count": null,
      "outputs": [
        {
          "output_type": "stream",
          "name": "stdout",
          "text": [
            "Pocillo 200\n",
            "Esta instancia tiene el objeto Silla con un valor $50000\n"
          ]
        }
      ]
    },
    {
      "cell_type": "code",
      "source": [
        "# Herencia en Clases:\n",
        "class Tienda:\n",
        "  # Constructor:\n",
        "  def __init__(self, valor_compra):\n",
        "    self.valor_compra = valor_compra\n",
        "    print('Se ha agregado un objeto con valor de compra por', self.valor_compra)\n",
        "\n",
        "class Estante(Tienda):\n",
        "  # constructor:\n",
        "  def __init__(self, nombre_producto, valor_compra):\n",
        "    Tienda.__init__(self, valor_compra)\n",
        "    self.nombre_producto = nombre_producto\n",
        "\n",
        "  def valorVenta(self):\n",
        "    valor_venta = self.valor_compra * 1.15\n",
        "    return valor_venta\n",
        "\n",
        "  def __str__(self):\n",
        "    return f'El producto {self.nombre_producto} se compra a {self.valor_compra} y lo vendemos a {self.valorVenta()}'\n",
        "\n",
        "ob = Estante('Hojas tamaño carta', 9000)\n",
        "print(ob)\n",
        "\n",
        "\"\"\" \n",
        "  Realizar una clase que para almacenar mascotas con sus respectivos dueños\n",
        "\n",
        "  class Propietario:\n",
        "    pass\n",
        "  \n",
        "  class Mascota(Propietario):\n",
        "    pass\n",
        "\"\"\"\n"
      ],
      "metadata": {
        "colab": {
          "base_uri": "https://localhost:8080/"
        },
        "id": "4XM76G9JoFCw",
        "outputId": "7f741de0-5b52-4be6-c6b6-a75ad98bf011"
      },
      "execution_count": null,
      "outputs": [
        {
          "output_type": "stream",
          "name": "stdout",
          "text": [
            "Se ha agregado un objeto con valor de compra por 9000\n",
            "El producto Hojas tamaño carta se compra a 9000 y lo vendemos a 10350.0\n"
          ]
        }
      ]
    }
  ]
}